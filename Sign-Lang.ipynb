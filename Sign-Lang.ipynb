{
  "nbformat": 4,
  "nbformat_minor": 0,
  "metadata": {
    "colab": {
      "name": "Untitled39.ipynb",
      "provenance": []
    },
    "kernelspec": {
      "name": "python391jvsc74a57bd063fd5069d213b44bf678585dea6b12cceca9941eaf7f819626cde1f2670de90d",
      "display_name": "Python 3.9.1 64-bit"
    },
    "language_info": {
      "name": "python",
      "version": "3.9.1"
    },
    "accelerator": "GPU",
    "metadata": {
      "interpreter": {
        "hash": "63fd5069d213b44bf678585dea6b12cceca9941eaf7f819626cde1f2670de90d"
      }
    }
  },
  "cells": [
    {
      "cell_type": "code",
      "metadata": {
        "colab": {
          "base_uri": "https://localhost:8080/"
        },
        "id": "5A77fA0pL2me",
        "outputId": "a5e9ba55-0da1-48e2-8b98-fc2a92f36286"
      },
      "source": [
        "!rm /root/.kaggle\n",
        "!mkdir /root/.kaggle\n",
        "!cp /content/kaggle.json /root/.kaggle/"
      ],
      "execution_count": 2,
      "outputs": [
        {
          "output_type": "stream",
          "text": [
            "rm: cannot remove '/root/.kaggle': Is a directory\n",
            "mkdir: cannot create directory ‘/root/.kaggle’: File exists\n"
          ],
          "name": "stdout"
        }
      ]
    },
    {
      "cell_type": "code",
      "metadata": {
        "colab": {
          "base_uri": "https://localhost:8080/"
        },
        "id": "ZmIeWlopMHxZ",
        "outputId": "7be05b5a-d0c6-47ba-f5bb-885971657889"
      },
      "source": [
        "import sklearn\n",
        "import tensorflow as tf \n",
        "import numpy as np \n",
        "import pandas as pd \n",
        "import matplotlib.pyplot as plt\n",
        "import cv2\n",
        "#import kaggle\n",
        "#!kaggle datasets download -d datamunge/sign-language-mnist\n",
        "#!unzip /content/sign-language-mnist.zip"
      ],
      "execution_count": 1,
      "outputs": [
        {
          "output_type": "stream",
          "name": "stdout",
          "text": [
            "INFO:tensorflow:Enabling eager execution\n",
            "INFO:tensorflow:Enabling v2 tensorshape\n",
            "INFO:tensorflow:Enabling resource variables\n",
            "INFO:tensorflow:Enabling tensor equality\n",
            "INFO:tensorflow:Enabling control flow v2\n"
          ]
        }
      ]
    },
    {
      "cell_type": "code",
      "metadata": {
        "id": "CQMNnep_MjBQ"
      },
      "source": [
        "dataset_train=pd.read_csv('D:\\Working\\signLnguage\\sign_mnist_train.csv')\n",
        "X_train=dataset_train.iloc[:,1:]\n",
        "y_train=dataset_train.iloc[:,0]\n",
        "X_train=np.array(X_train,dtype=np.float32)\n",
        "y_train=np.array(y_train,dtype=np.float32)\n",
        "X_train=X_train.reshape(X_train.shape[0],*(28,28,1))"
      ],
      "execution_count": 6,
      "outputs": []
    },
    {
      "cell_type": "code",
      "metadata": {
        "id": "iaLkjLPXMTlb"
      },
      "source": [
        "from sklearn.model_selection import train_test_split\n",
        "X_train, X_validate, y_train, y_validate = train_test_split(X_train, y_train, test_size = 0.2, random_state = 12345)"
      ],
      "execution_count": 7,
      "outputs": []
    },
    {
      "cell_type": "code",
      "metadata": {
        "id": "inNtguUGM-DE"
      },
      "source": [
        "model=tf.keras.models.Sequential()\n",
        "model.add(tf.keras.layers.Conv2D(100, (4, 4), input_shape = (28,28,1), activation='relu'))\n",
        "model.add(tf.keras.layers.MaxPooling2D(pool_size = (2, 2)))\n",
        "model.add(tf.keras.layers.Dropout(0.25))\n",
        "model.add(tf.keras.layers.Conv2D(128, (3, 3), activation='relu'))\n",
        "model.add(tf.keras.layers.MaxPooling2D(pool_size = (2, 2)))\n",
        "model.add(tf.keras.layers.Dropout(0.25))\n",
        "model.add(tf.keras.layers.Flatten())\n",
        "model.add(tf.keras.layers.Dense(units = 512, activation = 'relu'))\n",
        "model.add(tf.keras.layers.Dense(units = 25, activation = 'softmax'))"
      ],
      "execution_count": 12,
      "outputs": []
    },
    {
      "cell_type": "code",
      "metadata": {
        "id": "cLirHIgjNCB_"
      },
      "source": [
        "model.compile(loss ='sparse_categorical_crossentropy', optimizer='adam' ,metrics =['accuracy'])\n"
      ],
      "execution_count": 13,
      "outputs": []
    },
    {
      "cell_type": "code",
      "metadata": {
        "colab": {
          "base_uri": "https://localhost:8080/"
        },
        "id": "ZCoBqhk_NdFK",
        "outputId": "4d114d39-3b26-493f-b585-42cd65c2ce8c"
      },
      "source": [
        "history = model.fit(X_train, y_train, batch_size = 512, epochs = 10, verbose = 1, validation_data = (X_validate, y_validate))"
      ],
      "execution_count": 14,
      "outputs": [
        {
          "output_type": "stream",
          "text": [
            "Epoch 1/10\n",
            "43/43 [==============================] - 3s 63ms/step - loss: 23.1881 - accuracy: 0.0703 - val_loss: 1.9696 - val_accuracy: 0.4518\n",
            "Epoch 2/10\n",
            "43/43 [==============================] - 2s 57ms/step - loss: 2.0091 - accuracy: 0.3772 - val_loss: 0.9384 - val_accuracy: 0.7459\n",
            "Epoch 3/10\n",
            "43/43 [==============================] - 2s 58ms/step - loss: 1.2236 - accuracy: 0.6007 - val_loss: 0.4558 - val_accuracy: 0.8929\n",
            "Epoch 4/10\n",
            "43/43 [==============================] - 3s 62ms/step - loss: 0.7610 - accuracy: 0.7473 - val_loss: 0.1941 - val_accuracy: 0.9561\n",
            "Epoch 5/10\n",
            "43/43 [==============================] - 2s 58ms/step - loss: 0.4433 - accuracy: 0.8518 - val_loss: 0.0764 - val_accuracy: 0.9871\n",
            "Epoch 6/10\n",
            "43/43 [==============================] - 2s 58ms/step - loss: 0.2747 - accuracy: 0.9093 - val_loss: 0.0421 - val_accuracy: 0.9929\n",
            "Epoch 7/10\n",
            "43/43 [==============================] - 2s 57ms/step - loss: 0.1972 - accuracy: 0.9331 - val_loss: 0.0278 - val_accuracy: 0.9916\n",
            "Epoch 8/10\n",
            "43/43 [==============================] - 2s 58ms/step - loss: 0.1352 - accuracy: 0.9515 - val_loss: 0.0145 - val_accuracy: 0.9998\n",
            "Epoch 9/10\n",
            "43/43 [==============================] - 2s 57ms/step - loss: 0.1067 - accuracy: 0.9647 - val_loss: 0.0134 - val_accuracy: 0.9995\n",
            "Epoch 10/10\n",
            "43/43 [==============================] - 2s 58ms/step - loss: 0.0745 - accuracy: 0.9761 - val_loss: 0.0045 - val_accuracy: 1.0000\n"
          ],
          "name": "stdout"
        }
      ]
    },
    {
      "cell_type": "code",
      "metadata": {
        "id": "PDT0EX4WNsDf"
      },
      "source": [
        "model.save('/content/drive/MyDrive/sign-lang/sign-lang-version-1.h5')"
      ],
      "execution_count": 17,
      "outputs": []
    },
    {
      "cell_type": "code",
      "metadata": {
        "colab": {
          "base_uri": "https://localhost:8080/"
        },
        "id": "QTlwYR-0OMnn",
        "outputId": "4d43c5c4-0962-4e41-c0d8-e4b9acf56e04"
      },
      "source": [
        "from google.colab import drive\n",
        "drive.mount('/content/drive')"
      ],
      "execution_count": 15,
      "outputs": [
        {
          "output_type": "stream",
          "text": [
            "Mounted at /content/drive\n"
          ],
          "name": "stdout"
        }
      ]
    },
    {
      "cell_type": "code",
      "metadata": {
        "id": "RM63yFlxPLLY"
      },
      "source": [
        "model=tf.keras.models.load_model('D:\\Working\\signLnguage\\sign-lang-version.h5')\n",
        "classes = ['A', 'B', 'C', 'D', 'E', 'F', 'G', 'H', 'I', 'J', 'K', 'L', 'M', 'N', 'O', 'P', 'Q', 'R', 'S', 'T', 'U', 'V', 'W', 'X', 'Y' ]\n"
      ],
      "execution_count": 2,
      "outputs": []
    },
    {
      "cell_type": "code",
      "execution_count": 3,
      "metadata": {},
      "outputs": [
        {
          "output_type": "stream",
          "name": "stderr",
          "text": [
            "C:\\Users\\rrrdm\\AppData\\Roaming\\Python\\Python39\\site-packages\\tensorflow\\python\\keras\\engine\\sequential.py:455: UserWarning: `model.predict_classes()` is deprecated and will be removed after 2021-01-01. Please use instead:* `np.argmax(model.predict(x), axis=-1)`,   if your model does multi-class classification   (e.g. if it uses a `softmax` last-layer activation).* `(model.predict(x) > 0.5).astype(\"int32\")`,   if your model does binary classification   (e.g. if it uses a `sigmoid` last-layer activation).\n  warnings.warn('`model.predict_classes()` is deprecated and '\n"
          ]
        }
      ],
      "source": [
        "cap=cv2.VideoCapture(0)\n",
        "width=int(cap.get(cv2.CAP_PROP_FRAME_WIDTH))\n",
        "height=int(cap.get(cv2.CAP_PROP_FRAME_HEIGHT))\n",
        "x=width//2\n",
        "y=height//2\n",
        "w,h=width//3,height//3\n",
        "\n",
        "#writer=cv2.VideoWriter(\"MeBeingMad.mp4\",cv2.VideoWriter_fourcc(*'DIVX'),25,(width,height))\n",
        "while True:\n",
        "    ret,frame=cap.read()\n",
        "    \n",
        "    cv2.rectangle(frame,pt1=(x,y),pt2=(x+w,y+h),color=(255,0,100),thickness=4)\n",
        "    roi=frame[y:y+h,x:x+w]\n",
        "    roi=cv2.resize(roi,(28,28))\n",
        "    roi=cv2.cvtColor(roi,cv2.COLOR_BGR2GRAY)\n",
        "    roi=roi.reshape(1,28,28,1)\n",
        "    res=model.predict_classes(roi)\n",
        "    \n",
        "    #print(newArea.shape)\n",
        "#    writer.write(frame)\n",
        "    cv2.putText(text=classes[res[0]],img=frame,org=(100,100),fontFace=cv2.FONT_HERSHEY_COMPLEX_SMALL,fontScale=5,color=(0,255,0))\n",
        "    cv2.imshow(\"LiveFeed\",frame)\n",
        "    if cv2.waitKey(10) & 0xFF==ord('q'):\n",
        "        break\n",
        "cap.release()\n",
        "#writer.release()\n",
        "cv2.destroyAllWindows()"
      ]
    },
    {
      "cell_type": "code",
      "execution_count": null,
      "metadata": {},
      "outputs": [],
      "source": []
    }
  ]
}